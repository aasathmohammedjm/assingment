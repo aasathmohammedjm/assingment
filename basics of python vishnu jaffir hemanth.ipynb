{
 "cells": [
  {
   "cell_type": "markdown",
   "id": "48bafc52",
   "metadata": {},
   "source": [
    "# variables and data types"
   ]
  },
  {
   "cell_type": "code",
   "execution_count": null,
   "id": "eaf64e02",
   "metadata": {},
   "outputs": [],
   "source": [
    "1.variable is case sensitive\n",
    "2.alphanumric allowed,numericalpha not allowed.\n",
    "3.special characters are not allowed not except\n",
    "4.space not allowed"
   ]
  },
  {
   "cell_type": "code",
   "execution_count": 2,
   "id": "0dff7fb8",
   "metadata": {},
   "outputs": [],
   "source": [
    "name='farvesh'"
   ]
  },
  {
   "cell_type": "code",
   "execution_count": 3,
   "id": "c6757b8d",
   "metadata": {},
   "outputs": [
    {
     "data": {
      "text/plain": [
       "'farvesh'"
      ]
     },
     "execution_count": 3,
     "metadata": {},
     "output_type": "execute_result"
    }
   ],
   "source": [
    "name"
   ]
  },
  {
   "cell_type": "code",
   "execution_count": 6,
   "id": "3e777f3b",
   "metadata": {},
   "outputs": [],
   "source": [
    "product1=\"ktm\""
   ]
  },
  {
   "cell_type": "code",
   "execution_count": 7,
   "id": "551a8165",
   "metadata": {},
   "outputs": [
    {
     "data": {
      "text/plain": [
       "'ktm'"
      ]
     },
     "execution_count": 7,
     "metadata": {},
     "output_type": "execute_result"
    }
   ],
   "source": [
    "product1"
   ]
  },
  {
   "cell_type": "code",
   "execution_count": 8,
   "id": "c64a35aa",
   "metadata": {},
   "outputs": [],
   "source": [
    "#name=\"farvesh\""
   ]
  },
  {
   "cell_type": "code",
   "execution_count": 9,
   "id": "8d134e69",
   "metadata": {},
   "outputs": [],
   "source": [
    "#name"
   ]
  },
  {
   "cell_type": "code",
   "execution_count": 10,
   "id": "6f374d7d",
   "metadata": {},
   "outputs": [],
   "source": [
    "_name=\"farvesh\""
   ]
  },
  {
   "cell_type": "code",
   "execution_count": 17,
   "id": "7dc23828",
   "metadata": {},
   "outputs": [],
   "source": [
    "student_name=\"farvesh\""
   ]
  },
  {
   "cell_type": "code",
   "execution_count": 18,
   "id": "a818902d",
   "metadata": {},
   "outputs": [
    {
     "data": {
      "text/plain": [
       "'farvesh'"
      ]
     },
     "execution_count": 18,
     "metadata": {},
     "output_type": "execute_result"
    }
   ],
   "source": [
    "student_name"
   ]
  },
  {
   "cell_type": "markdown",
   "id": "ea9f96dd",
   "metadata": {},
   "source": [
    "# types of data"
   ]
  },
  {
   "cell_type": "code",
   "execution_count": null,
   "id": "858752ad",
   "metadata": {},
   "outputs": [],
   "source": [
    "numeric-integer, float, complex\n",
    "string-string\n",
    "sequence-array,list, tuple, range\n",
    "mapping-dictionary\n",
    "set-set,frozen set\n",
    "boolean-bool\n",
    "binary-byte,byte array, memory view"
   ]
  },
  {
   "cell_type": "code",
   "execution_count": 19,
   "id": "2363824a",
   "metadata": {},
   "outputs": [],
   "source": [
    "a=10"
   ]
  },
  {
   "cell_type": "code",
   "execution_count": 20,
   "id": "b1eb47d6",
   "metadata": {},
   "outputs": [
    {
     "data": {
      "text/plain": [
       "int"
      ]
     },
     "execution_count": 20,
     "metadata": {},
     "output_type": "execute_result"
    }
   ],
   "source": [
    "type(a)"
   ]
  },
  {
   "cell_type": "code",
   "execution_count": 26,
   "id": "6769198b",
   "metadata": {},
   "outputs": [],
   "source": [
    "b=10.1"
   ]
  },
  {
   "cell_type": "code",
   "execution_count": 28,
   "id": "203abbea",
   "metadata": {},
   "outputs": [
    {
     "data": {
      "text/plain": [
       "float"
      ]
     },
     "execution_count": 28,
     "metadata": {},
     "output_type": "execute_result"
    }
   ],
   "source": [
    "type(b)"
   ]
  },
  {
   "cell_type": "code",
   "execution_count": 30,
   "id": "5451cee0",
   "metadata": {},
   "outputs": [],
   "source": [
    "c=10+5j"
   ]
  },
  {
   "cell_type": "code",
   "execution_count": 32,
   "id": "55afcb8b",
   "metadata": {},
   "outputs": [
    {
     "data": {
      "text/plain": [
       "complex"
      ]
     },
     "execution_count": 32,
     "metadata": {},
     "output_type": "execute_result"
    }
   ],
   "source": [
    "type(c)"
   ]
  },
  {
   "cell_type": "code",
   "execution_count": 33,
   "id": "2085fb93",
   "metadata": {},
   "outputs": [],
   "source": [
    "name='eye1000'"
   ]
  },
  {
   "cell_type": "code",
   "execution_count": 34,
   "id": "9992c828",
   "metadata": {},
   "outputs": [
    {
     "data": {
      "text/plain": [
       "str"
      ]
     },
     "execution_count": 34,
     "metadata": {},
     "output_type": "execute_result"
    }
   ],
   "source": [
    "type(name)"
   ]
  },
  {
   "cell_type": "code",
   "execution_count": 36,
   "id": "f46ced32",
   "metadata": {},
   "outputs": [],
   "source": [
    "CLass=\"this is python class\""
   ]
  },
  {
   "cell_type": "code",
   "execution_count": 37,
   "id": "3beb20c5",
   "metadata": {},
   "outputs": [
    {
     "data": {
      "text/plain": [
       "'this is python class'"
      ]
     },
     "execution_count": 37,
     "metadata": {},
     "output_type": "execute_result"
    }
   ],
   "source": [
    "CLass"
   ]
  },
  {
   "cell_type": "code",
   "execution_count": 43,
   "id": "a51be34d",
   "metadata": {},
   "outputs": [],
   "source": [
    "CLass='T'"
   ]
  },
  {
   "cell_type": "code",
   "execution_count": 44,
   "id": "94dc52a2",
   "metadata": {},
   "outputs": [
    {
     "name": "stdout",
     "output_type": "stream",
     "text": [
      "T\n"
     ]
    }
   ],
   "source": [
    "print(CLass)"
   ]
  },
  {
   "cell_type": "code",
   "execution_count": 42,
   "id": "20c12d61",
   "metadata": {},
   "outputs": [
    {
     "data": {
      "text/plain": [
       "str"
      ]
     },
     "execution_count": 42,
     "metadata": {},
     "output_type": "execute_result"
    }
   ],
   "source": [
    "type(cLass)"
   ]
  },
  {
   "cell_type": "markdown",
   "id": "40541cb4",
   "metadata": {},
   "source": [
    "# LIST"
   ]
  },
  {
   "cell_type": "code",
   "execution_count": null,
   "id": "e517607f",
   "metadata": {},
   "outputs": [],
   "source": [
    "list suppoets multiple data type\n",
    "list is mutable\n",
    "list supports repeatability"
   ]
  },
  {
   "cell_type": "code",
   "execution_count": 45,
   "id": "67d98011",
   "metadata": {},
   "outputs": [],
   "source": [
    "L1=[10,15,.2,10+2j,\"PYTHON\",'ROBOTICS']"
   ]
  },
  {
   "cell_type": "code",
   "execution_count": 46,
   "id": "544366ad",
   "metadata": {},
   "outputs": [
    {
     "name": "stdout",
     "output_type": "stream",
     "text": [
      "[10, 15, 0.2, (10+2j), 'PYTHON', 'ROBOTICS']\n"
     ]
    }
   ],
   "source": [
    "print(L1)"
   ]
  },
  {
   "cell_type": "code",
   "execution_count": 48,
   "id": "c122dfbf",
   "metadata": {},
   "outputs": [
    {
     "data": {
      "text/plain": [
       "list"
      ]
     },
     "execution_count": 48,
     "metadata": {},
     "output_type": "execute_result"
    }
   ],
   "source": [
    "type(L1)"
   ]
  },
  {
   "cell_type": "code",
   "execution_count": 1,
   "id": "7fe0028a",
   "metadata": {},
   "outputs": [],
   "source": [
    "my_list = [10,20,30.5,'python',5j,[1,2,3,4]]"
   ]
  },
  {
   "cell_type": "code",
   "execution_count": 12,
   "id": "09caa558",
   "metadata": {},
   "outputs": [],
   "source": [
    "my_list[3] = 'python'"
   ]
  },
  {
   "cell_type": "code",
   "execution_count": 13,
   "id": "3479a61e",
   "metadata": {},
   "outputs": [
    {
     "data": {
      "text/plain": [
       "3"
      ]
     },
     "execution_count": 13,
     "metadata": {},
     "output_type": "execute_result"
    }
   ],
   "source": [
    "my_list[5][2]"
   ]
  },
  {
   "cell_type": "code",
   "execution_count": 14,
   "id": "41b97556",
   "metadata": {},
   "outputs": [
    {
     "data": {
      "text/plain": [
       "[5j, [1, 2, 3, 4]]"
      ]
     },
     "execution_count": 14,
     "metadata": {},
     "output_type": "execute_result"
    }
   ],
   "source": [
    "my_list[4:]"
   ]
  },
  {
   "cell_type": "code",
   "execution_count": 15,
   "id": "1331c214",
   "metadata": {},
   "outputs": [
    {
     "data": {
      "text/plain": [
       "['python', 5j, [1, 2, 3, 4]]"
      ]
     },
     "execution_count": 15,
     "metadata": {},
     "output_type": "execute_result"
    }
   ],
   "source": [
    "my_list[-3:]"
   ]
  },
  {
   "cell_type": "code",
   "execution_count": 16,
   "id": "9b816550",
   "metadata": {},
   "outputs": [
    {
     "data": {
      "text/plain": [
       "[1, 2, 3]"
      ]
     },
     "execution_count": 16,
     "metadata": {},
     "output_type": "execute_result"
    }
   ],
   "source": [
    "my_list[5][0:3]"
   ]
  },
  {
   "cell_type": "code",
   "execution_count": 17,
   "id": "e033714d",
   "metadata": {},
   "outputs": [
    {
     "data": {
      "text/plain": [
       "[10, 'python']"
      ]
     },
     "execution_count": 17,
     "metadata": {},
     "output_type": "execute_result"
    }
   ],
   "source": [
    "my_list[0::3]"
   ]
  },
  {
   "cell_type": "code",
   "execution_count": 18,
   "id": "43bda1b8",
   "metadata": {},
   "outputs": [
    {
     "data": {
      "text/plain": [
       "[[1, 2, 3, 4], 5j, 'python', 30.5, 20, 10]"
      ]
     },
     "execution_count": 18,
     "metadata": {},
     "output_type": "execute_result"
    }
   ],
   "source": [
    "my_list[::-1]"
   ]
  },
  {
   "cell_type": "code",
   "execution_count": 21,
   "id": "411e344f",
   "metadata": {},
   "outputs": [],
   "source": [
    "my_list.append([10,20,30])"
   ]
  },
  {
   "cell_type": "code",
   "execution_count": 22,
   "id": "761d2633",
   "metadata": {},
   "outputs": [
    {
     "data": {
      "text/plain": [
       "[10,\n",
       " 20,\n",
       " 30.5,\n",
       " 'python',\n",
       " 5j,\n",
       " [1, 2, 3, 4],\n",
       " [10, 20, 30],\n",
       " [10, 20, 30],\n",
       " [10, 20, 30]]"
      ]
     },
     "execution_count": 22,
     "metadata": {},
     "output_type": "execute_result"
    }
   ],
   "source": [
    "my_list"
   ]
  },
  {
   "cell_type": "markdown",
   "id": "9def4314-7a52-477f-bc7e-ae9cb3a58482",
   "metadata": {},
   "source": [
    "# Frozen Set"
   ]
  },
  {
   "cell_type": "code",
   "execution_count": 2,
   "id": "16c82657-0dca-4bd4-b845-baee2c226276",
   "metadata": {},
   "outputs": [],
   "source": [
    "Name = frozenset({1,2,3,\"sam\",\"hi\"})"
   ]
  },
  {
   "cell_type": "code",
   "execution_count": 3,
   "id": "e8a88ec6-b99f-452a-be86-d0a8c8cfb817",
   "metadata": {},
   "outputs": [
    {
     "data": {
      "text/plain": [
       "frozenset({1, 2, 3, 'hi', 'sam'})"
      ]
     },
     "execution_count": 3,
     "metadata": {},
     "output_type": "execute_result"
    }
   ],
   "source": [
    "Name"
   ]
  },
  {
   "cell_type": "code",
   "execution_count": 4,
   "id": "e9982118-85e9-4323-9b0d-a827f051f5e7",
   "metadata": {},
   "outputs": [
    {
     "data": {
      "text/plain": [
       "frozenset"
      ]
     },
     "execution_count": 4,
     "metadata": {},
     "output_type": "execute_result"
    }
   ],
   "source": [
    "type(Name)"
   ]
  },
  {
   "cell_type": "markdown",
   "id": "182258e9-5da6-4d05-aea4-628acfb0099f",
   "metadata": {},
   "source": [
    "# Dictionaries"
   ]
  },
  {
   "cell_type": "markdown",
   "id": "308d4bd2-aa54-4081-b2e5-95d4329239e6",
   "metadata": {},
   "source": [
    "# 1.KEYS ARE IMMUTABLE\n",
    "# 2.VALUES ARE MUTABLE\n",
    "# 3.OVERALL DICT A MUTABLR STUCTURE"
   ]
  },
  {
   "cell_type": "code",
   "execution_count": 22,
   "id": "7feeb85a-98eb-4823-b242-0fd65bda5d2a",
   "metadata": {},
   "outputs": [],
   "source": [
    "Subject = {'Name':\"Robotics\",'Year':\"3rd year\",'Course':\"Artificial Intelligence\"}"
   ]
  },
  {
   "cell_type": "code",
   "execution_count": 23,
   "id": "1f6bf1c7-59b4-4510-b615-a66721354b22",
   "metadata": {},
   "outputs": [
    {
     "data": {
      "text/plain": [
       "{'Name': 'Robotics', 'Year': '3rd year', 'Course': 'Artificial Intelligence'}"
      ]
     },
     "execution_count": 23,
     "metadata": {},
     "output_type": "execute_result"
    }
   ],
   "source": [
    "Subject"
   ]
  },
  {
   "cell_type": "code",
   "execution_count": 10,
   "id": "48b30911-282a-48f3-bea7-73c98c1b1c31",
   "metadata": {},
   "outputs": [
    {
     "data": {
      "text/plain": [
       "dict"
      ]
     },
     "execution_count": 10,
     "metadata": {},
     "output_type": "execute_result"
    }
   ],
   "source": [
    "type(Subject)"
   ]
  },
  {
   "cell_type": "code",
   "execution_count": 11,
   "id": "9dd9d887-43c1-4390-ade8-d125a3a109bd",
   "metadata": {},
   "outputs": [
    {
     "data": {
      "text/plain": [
       "3"
      ]
     },
     "execution_count": 11,
     "metadata": {},
     "output_type": "execute_result"
    }
   ],
   "source": [
    "len(Subject)"
   ]
  },
  {
   "cell_type": "code",
   "execution_count": 12,
   "id": "d1064945-5c50-437a-9fb0-5f19c1059032",
   "metadata": {},
   "outputs": [
    {
     "data": {
      "text/plain": [
       "'Artificial Intelligence'"
      ]
     },
     "execution_count": 12,
     "metadata": {},
     "output_type": "execute_result"
    }
   ],
   "source": [
    "Subject['Course']"
   ]
  },
  {
   "cell_type": "code",
   "execution_count": 13,
   "id": "aa1b8a87-4559-4c9b-8847-9dba6c6c4130",
   "metadata": {},
   "outputs": [],
   "source": [
    "Subject['Course'] = 'AI'"
   ]
  },
  {
   "cell_type": "code",
   "execution_count": 14,
   "id": "cd4e8fe5-e027-49ce-a56a-6c71e101a807",
   "metadata": {},
   "outputs": [
    {
     "data": {
      "text/plain": [
       "{'Name': 'Robotics', 'Year': '3rd year', 'Course': 'AI'}"
      ]
     },
     "execution_count": 14,
     "metadata": {},
     "output_type": "execute_result"
    }
   ],
   "source": [
    "Subject"
   ]
  },
  {
   "cell_type": "code",
   "execution_count": 16,
   "id": "431b97d2-dc1f-4986-a53c-df55410a5a03",
   "metadata": {},
   "outputs": [
    {
     "data": {
      "text/plain": [
       "dict_keys(['Name', 'Year', 'Course'])"
      ]
     },
     "execution_count": 16,
     "metadata": {},
     "output_type": "execute_result"
    }
   ],
   "source": [
    "Subject.keys()"
   ]
  },
  {
   "cell_type": "code",
   "execution_count": 17,
   "id": "bcb5fa74-d179-4a47-bb87-d32bc5ad7dcd",
   "metadata": {},
   "outputs": [
    {
     "data": {
      "text/plain": [
       "dict_values(['Robotics', '3rd year', 'AI'])"
      ]
     },
     "execution_count": 17,
     "metadata": {},
     "output_type": "execute_result"
    }
   ],
   "source": [
    "Subject.values()"
   ]
  },
  {
   "cell_type": "code",
   "execution_count": 19,
   "id": "b84256fe-bc67-41be-9ea4-3a32b0d4d42f",
   "metadata": {},
   "outputs": [],
   "source": [
    "Subject.clear()"
   ]
  },
  {
   "cell_type": "code",
   "execution_count": 25,
   "id": "cfc8f8a1-38e3-444a-95f2-4c2493172c1c",
   "metadata": {},
   "outputs": [
    {
     "data": {
      "text/plain": [
       "{'Name': 'Robotics', 'Year': '3rd year'}"
      ]
     },
     "execution_count": 25,
     "metadata": {},
     "output_type": "execute_result"
    }
   ],
   "source": [
    "Subject"
   ]
  },
  {
   "cell_type": "code",
   "execution_count": 24,
   "id": "92d97498-3eaf-43ea-b9c6-24c1d7945a3e",
   "metadata": {},
   "outputs": [
    {
     "data": {
      "text/plain": [
       "'Artificial Intelligence'"
      ]
     },
     "execution_count": 24,
     "metadata": {},
     "output_type": "execute_result"
    }
   ],
   "source": [
    "Subject.pop('Course')"
   ]
  },
  {
   "cell_type": "code",
   "execution_count": 26,
   "id": "410cad58-faf6-4ea8-bb91-614c83fa85b9",
   "metadata": {},
   "outputs": [
    {
     "data": {
      "text/plain": [
       "{'Name': 'Robotics', 'Year': '3rd year'}"
      ]
     },
     "execution_count": 26,
     "metadata": {},
     "output_type": "execute_result"
    }
   ],
   "source": [
    "Subject"
   ]
  },
  {
   "cell_type": "markdown",
   "id": "1b634a75-3c45-45b1-a522-e03d57ebb6cc",
   "metadata": {},
   "source": [
    "# Boolean"
   ]
  },
  {
   "cell_type": "markdown",
   "id": "52c33ee6-0072-46f0-8cec-459871be0de9",
   "metadata": {},
   "source": [
    ">-greater then"
   ]
  },
  {
   "cell_type": "code",
   "execution_count": null,
   "id": "20ce48d7-be8f-4d40-a1d1-5ac69e53304c",
   "metadata": {},
   "outputs": [],
   "source": [
    "<-lesser then"
   ]
  },
  {
   "cell_type": "markdown",
   "id": "b7a04f8b-2b1f-449e-a6ea-3f9ef62b7cc8",
   "metadata": {},
   "source": [
    ">= - greater then"
   ]
  },
  {
   "cell_type": "code",
   "execution_count": null,
   "id": "eab65248-8e64-4408-91cf-09500b68ec8b",
   "metadata": {},
   "outputs": [],
   "source": [
    "<= - less "
   ]
  },
  {
   "cell_type": "markdown",
   "id": "f48bd062-470a-45b1-b27b-998a9f835796",
   "metadata": {},
   "source": [
    "# python program to check if the input number is odd or even.\n",
    "# a number is even if division by 2 gives a remainder of 0.\n",
    "# if the remainder is 1, it is an odd number."
   ]
  },
  {
   "cell_type": "code",
   "execution_count": 20,
   "id": "6cf746ef-aa6c-4c65-90d0-88ca6c3c5159",
   "metadata": {},
   "outputs": [
    {
     "name": "stdin",
     "output_type": "stream",
     "text": [
      "enter a number: 98\n"
     ]
    },
    {
     "name": "stdout",
     "output_type": "stream",
     "text": [
      "98 is even\n"
     ]
    }
   ],
   "source": [
    "num = int(input(\"enter a number:\"))\n",
    "if (num% 2)==0:\n",
    "    print(\"{0} is even\". format(num))\n",
    "else:\n",
    "    print(\"{0} is odd\".format(num)) \n",
    "\n",
    "        "
   ]
  },
  {
   "cell_type": "code",
   "execution_count": 27,
   "id": "ada39dbc-7df9-425c-ad69-54cce02182b3",
   "metadata": {},
   "outputs": [
    {
     "name": "stdout",
     "output_type": "stream",
     "text": [
      "98 is even\n"
     ]
    }
   ],
   "source": [
    "def function_name(num):\n",
    "    num = int(input(\"enter a number:\"))    \n",
    "if (num% 2)==0:\n",
    "    print(\"{0} is even\". format(num))\n",
    "else:\n",
    "    print(\"{0} is odd\".format(num)) \n"
   ]
  },
  {
   "cell_type": "code",
   "execution_count": null,
   "id": "322a445c-be07-4e4b-8e8a-8baff9f8857e",
   "metadata": {},
   "outputs": [],
   "source": []
  }
 ],
 "metadata": {
  "kernelspec": {
   "display_name": "Python 3 (ipykernel)",
   "language": "python",
   "name": "python3"
  },
  "language_info": {
   "codemirror_mode": {
    "name": "ipython",
    "version": 3
   },
   "file_extension": ".py",
   "mimetype": "text/x-python",
   "name": "python",
   "nbconvert_exporter": "python",
   "pygments_lexer": "ipython3",
   "version": "3.9.19"
  }
 },
 "nbformat": 4,
 "nbformat_minor": 5
}
